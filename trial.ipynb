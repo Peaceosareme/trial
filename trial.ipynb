{
    "cells": [
        {
            "cell_type": "code",
            "execution_count": 1,
            "metadata": {},
            "outputs": [
                {
                    "name": "stdout",
                    "output_type": "stream",
                    "text": "Waiting for a Spark session to start...\nSpark Initialization Done! ApplicationId = app-20210819170004-0000\nKERNEL_ID = 61db9b1c-df01-4086-a33a-2bb6ff5645e1\n"
                },
                {
                    "data": {
                        "text/plain": "[Row(gender='female', race/ethnicity='group B', parental level of education=\"bachelor's degree\", lunch='standard', test preparation course='none', math score='72', reading score='72', writing score='74'),\n Row(gender='female', race/ethnicity='group C', parental level of education='some college', lunch='standard', test preparation course='completed', math score='69', reading score='90', writing score='88'),\n Row(gender='female', race/ethnicity='group B', parental level of education=\"master's degree\", lunch='standard', test preparation course='none', math score='90', reading score='95', writing score='93'),\n Row(gender='male', race/ethnicity='group A', parental level of education=\"associate's degree\", lunch='free/reduced', test preparation course='none', math score='47', reading score='57', writing score='44'),\n Row(gender='male', race/ethnicity='group C', parental level of education='some college', lunch='standard', test preparation course='none', math score='76', reading score='78', writing score='75')]"
                    },
                    "execution_count": 1,
                    "metadata": {},
                    "output_type": "execute_result"
                }
            ],
            "source": "# The code was removed by Watson Studio for sharing."
        },
        {
            "cell_type": "code",
            "execution_count": null,
            "metadata": {},
            "outputs": [],
            "source": ""
        }
    ],
    "metadata": {
        "kernelspec": {
            "display_name": "Python 3.7",
            "language": "python",
            "name": "python3"
        },
        "language_info": {
            "codemirror_mode": {
                "name": "ipython",
                "version": 3
            },
            "file_extension": ".py",
            "mimetype": "text/x-python",
            "name": "python",
            "nbconvert_exporter": "python",
            "pygments_lexer": "ipython3",
            "version": "3.7.10"
        }
    },
    "nbformat": 4,
    "nbformat_minor": 1
}